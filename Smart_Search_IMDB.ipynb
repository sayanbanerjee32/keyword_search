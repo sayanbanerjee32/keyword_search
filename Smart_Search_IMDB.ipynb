{
  "nbformat": 4,
  "nbformat_minor": 0,
  "metadata": {
    "colab": {
      "name": "Smart Search.ipynb",
      "provenance": [],
      "collapsed_sections": [],
      "include_colab_link": true
    },
    "kernelspec": {
      "name": "python3",
      "display_name": "Python 3"
    }
  },
  "cells": [
    {
      "cell_type": "markdown",
      "metadata": {
        "id": "view-in-github",
        "colab_type": "text"
      },
      "source": [
        "<a href=\"https://colab.research.google.com/github/sayanbanerjee32/keyword_search/blob/main/Smart_Search_IMDB.ipynb\" target=\"_parent\"><img src=\"https://colab.research.google.com/assets/colab-badge.svg\" alt=\"Open In Colab\"/></a>"
      ]
    },
    {
      "cell_type": "markdown",
      "metadata": {
        "id": "CWgIO442deb4"
      },
      "source": [
        "# Create a super smart search engine over any free text data source\n",
        "\n",
        "This code acompanies the following blog posts by https://medium.com/@thejoshtaylor\n"
      ]
    },
    {
      "cell_type": "code",
      "metadata": {
        "id": "u9soEcbgyWjk"
      },
      "source": [
        "%%capture\n",
        "# To import kaggle datasets\n",
        "!pip install --upgrade pip \n",
        "!pip install kaggle==1.5.6"
      ],
      "execution_count": 14,
      "outputs": []
    },
    {
      "cell_type": "code",
      "metadata": {
        "id": "9QG50f_yy6ow",
        "outputId": "e99ccbe8-3248-45d7-f7a2-c3d91175a2b4",
        "colab": {
          "resources": {
            "http://localhost:8080/nbextensions/google.colab/files.js": {
              "data": "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",
              "ok": true,
              "headers": [
                [
                  "content-type",
                  "application/javascript"
                ]
              ],
              "status": 200,
              "status_text": ""
            }
          },
          "base_uri": "https://localhost:8080/",
          "height": 91
        }
      },
      "source": [
        "# import colab libraries\n",
        "from google.colab import files\n",
        "# import kaggle json to connect to kaggle user account to download datsets\n",
        "files.upload()"
      ],
      "execution_count": 15,
      "outputs": [
        {
          "output_type": "display_data",
          "data": {
            "text/html": [
              "\n",
              "     <input type=\"file\" id=\"files-bedab8e8-3b5b-4a0f-b863-e733504def69\" name=\"files[]\" multiple disabled\n",
              "        style=\"border:none\" />\n",
              "     <output id=\"result-bedab8e8-3b5b-4a0f-b863-e733504def69\">\n",
              "      Upload widget is only available when the cell has been executed in the\n",
              "      current browser session. Please rerun this cell to enable.\n",
              "      </output>\n",
              "      <script src=\"/nbextensions/google.colab/files.js\"></script> "
            ],
            "text/plain": [
              "<IPython.core.display.HTML object>"
            ]
          },
          "metadata": {}
        },
        {
          "output_type": "stream",
          "name": "stdout",
          "text": [
            "Saving kaggle.json to kaggle.json\n"
          ]
        },
        {
          "output_type": "execute_result",
          "data": {
            "text/plain": [
              "{'kaggle.json': b'{\"username\":\"saansd2003\",\"key\":\"49c2be11dfd314e10999ff432e1eeb65\"}'}"
            ]
          },
          "metadata": {},
          "execution_count": 15
        }
      ]
    },
    {
      "cell_type": "code",
      "metadata": {
        "id": "w44rorj-zAX6"
      },
      "source": [
        "# The Kaggle API client expects this file to be in ~/.kaggle,\n",
        "# so lets move it there.\n",
        "!mkdir ~/.kaggle\n",
        "!cp kaggle.json ~/.kaggle/"
      ],
      "execution_count": 16,
      "outputs": []
    },
    {
      "cell_type": "code",
      "metadata": {
        "id": "ZtY9zz2czDiC"
      },
      "source": [
        "# This permissions change avoids a warning on Kaggle tool startup.\n",
        "!chmod 600 ~/.kaggle/kaggle.json"
      ],
      "execution_count": 17,
      "outputs": []
    },
    {
      "cell_type": "code",
      "metadata": {
        "id": "k2r-g7adzF87",
        "outputId": "1bcd1779-271f-46dd-be74-46ec66789c5a",
        "colab": {
          "base_uri": "https://localhost:8080/"
        }
      },
      "source": [
        "# download our dataset\n",
        "!kaggle datasets download -d lakshmi25npathi/imdb-dataset-of-50k-movie-reviews -p 'datasets'"
      ],
      "execution_count": 18,
      "outputs": [
        {
          "output_type": "stream",
          "name": "stdout",
          "text": [
            "Downloading imdb-dataset-of-50k-movie-reviews.zip to datasets\n",
            " 39% 10.0M/25.7M [00:00<00:00, 27.2MB/s]\n",
            "100% 25.7M/25.7M [00:00<00:00, 56.2MB/s]\n"
          ]
        }
      ]
    },
    {
      "cell_type": "code",
      "metadata": {
        "id": "G2hQWBzxzu8o",
        "outputId": "4e478878-b86e-4e40-da51-5fcbf3090da9",
        "colab": {
          "base_uri": "https://localhost:8080/"
        }
      },
      "source": [
        "#unzip\n",
        "!unzip datasets/imdb-dataset-of-50k-movie-reviews.zip -d datasets/"
      ],
      "execution_count": 19,
      "outputs": [
        {
          "output_type": "stream",
          "name": "stdout",
          "text": [
            "Archive:  datasets/imdb-dataset-of-50k-movie-reviews.zip\n",
            "  inflating: datasets/IMDB Dataset.csv  \n"
          ]
        }
      ]
    },
    {
      "cell_type": "code",
      "metadata": {
        "id": "RBXVOmHPU7BZ"
      },
      "source": [
        "%%capture\n",
        "import os\n",
        "import pandas as pd\n",
        "import numpy as np\n",
        "import pickle\n",
        "import spacy\n",
        "from tqdm import tqdm\n",
        "import matplotlib.pyplot as plt\n",
        "from gensim.models.fasttext import FastText\n",
        "!pip install rank_bm25 --quiet #install BM25\n",
        "!pip install --no-binary :all: nmslib #install nmslib\n",
        "from rank_bm25 import BM25Okapi\n",
        "import nmslib\n",
        "import time\n",
        "from google.colab import drive\n",
        "!pip install clean-text[gpl]\n",
        "from cleantext import clean\n",
        "import re\n",
        "\n",
        "# drive.mount('/content/drive') # if you want to use G Drive\n",
        "pd.set_option('display.max_colwidth', -1)\n",
        "plt.style.use('fivethirtyeight')\n"
      ],
      "execution_count": 1,
      "outputs": []
    },
    {
      "cell_type": "markdown",
      "metadata": {
        "id": "F6F6jJqPA4Wm"
      },
      "source": [
        "### Load data and create DF"
      ]
    },
    {
      "cell_type": "code",
      "metadata": {
        "id": "v1z4PTE_l9aE",
        "colab": {
          "base_uri": "https://localhost:8080/"
        },
        "outputId": "52461abd-95b4-48b6-abc6-2f82b2d16356"
      },
      "source": [
        "import pandas as pd\n",
        "df = pd.read_csv('datasets/IMDB Dataset.csv')\n",
        "df.shape\n"
      ],
      "execution_count": 21,
      "outputs": [
        {
          "output_type": "execute_result",
          "data": {
            "text/plain": [
              "(50000, 2)"
            ]
          },
          "metadata": {},
          "execution_count": 21
        }
      ]
    },
    {
      "cell_type": "code",
      "metadata": {
        "id": "krRfSYDew1_D",
        "colab": {
          "base_uri": "https://localhost:8080/",
          "height": 368
        },
        "outputId": "c12b65b7-5f4f-4d8f-8787-5079bcff3f9c"
      },
      "source": [
        "df.head(1)"
      ],
      "execution_count": 23,
      "outputs": [
        {
          "output_type": "execute_result",
          "data": {
            "text/html": [
              "<div>\n",
              "<style scoped>\n",
              "    .dataframe tbody tr th:only-of-type {\n",
              "        vertical-align: middle;\n",
              "    }\n",
              "\n",
              "    .dataframe tbody tr th {\n",
              "        vertical-align: top;\n",
              "    }\n",
              "\n",
              "    .dataframe thead th {\n",
              "        text-align: right;\n",
              "    }\n",
              "</style>\n",
              "<table border=\"1\" class=\"dataframe\">\n",
              "  <thead>\n",
              "    <tr style=\"text-align: right;\">\n",
              "      <th></th>\n",
              "      <th>review</th>\n",
              "      <th>sentiment</th>\n",
              "    </tr>\n",
              "  </thead>\n",
              "  <tbody>\n",
              "    <tr>\n",
              "      <th>0</th>\n",
              "      <td>One of the other reviewers has mentioned that after watching just 1 Oz episode you'll be hooked. They are right, as this is exactly what happened with me.&lt;br /&gt;&lt;br /&gt;The first thing that struck me about Oz was its brutality and unflinching scenes of violence, which set in right from the word GO. Trust me, this is not a show for the faint hearted or timid. This show pulls no punches with regards to drugs, sex or violence. Its is hardcore, in the classic use of the word.&lt;br /&gt;&lt;br /&gt;It is called OZ as that is the nickname given to the Oswald Maximum Security State Penitentary. It focuses mainly on Emerald City, an experimental section of the prison where all the cells have glass fronts and face inwards, so privacy is not high on the agenda. Em City is home to many..Aryans, Muslims, gangstas, Latinos, Christians, Italians, Irish and more....so scuffles, death stares, dodgy dealings and shady agreements are never far away.&lt;br /&gt;&lt;br /&gt;I would say the main appeal of the show is due to the fact that it goes where other shows wouldn't dare. Forget pretty pictures painted for mainstream audiences, forget charm, forget romance...OZ doesn't mess around. The first episode I ever saw struck me as so nasty it was surreal, I couldn't say I was ready for it, but as I watched more, I developed a taste for Oz, and got accustomed to the high levels of graphic violence. Not just violence, but injustice (crooked guards who'll be sold out for a nickel, inmates who'll kill on order and get away with it, well mannered, middle class inmates being turned into prison bitches due to their lack of street skills or prison experience) Watching Oz, you may become comfortable with what is uncomfortable viewing....thats if you can get in touch with your darker side.</td>\n",
              "      <td>positive</td>\n",
              "    </tr>\n",
              "  </tbody>\n",
              "</table>\n",
              "</div>"
            ],
            "text/plain": [
              "                                                                                                                                                                                                                                                                                                                                                                                                                                                                                                                                                                                                                                                                                                                                                                                                                                                                                                                                                                                                                                                                                                                                                                                                                                                                                                                                                                                                                                                                                                                                                                                                                                                                                                                                                                                                                              review sentiment\n",
              "0  One of the other reviewers has mentioned that after watching just 1 Oz episode you'll be hooked. They are right, as this is exactly what happened with me.<br /><br />The first thing that struck me about Oz was its brutality and unflinching scenes of violence, which set in right from the word GO. Trust me, this is not a show for the faint hearted or timid. This show pulls no punches with regards to drugs, sex or violence. Its is hardcore, in the classic use of the word.<br /><br />It is called OZ as that is the nickname given to the Oswald Maximum Security State Penitentary. It focuses mainly on Emerald City, an experimental section of the prison where all the cells have glass fronts and face inwards, so privacy is not high on the agenda. Em City is home to many..Aryans, Muslims, gangstas, Latinos, Christians, Italians, Irish and more....so scuffles, death stares, dodgy dealings and shady agreements are never far away.<br /><br />I would say the main appeal of the show is due to the fact that it goes where other shows wouldn't dare. Forget pretty pictures painted for mainstream audiences, forget charm, forget romance...OZ doesn't mess around. The first episode I ever saw struck me as so nasty it was surreal, I couldn't say I was ready for it, but as I watched more, I developed a taste for Oz, and got accustomed to the high levels of graphic violence. Not just violence, but injustice (crooked guards who'll be sold out for a nickel, inmates who'll kill on order and get away with it, well mannered, middle class inmates being turned into prison bitches due to their lack of street skills or prison experience) Watching Oz, you may become comfortable with what is uncomfortable viewing....thats if you can get in touch with your darker side.  positive"
            ]
          },
          "metadata": {},
          "execution_count": 23
        }
      ]
    },
    {
      "cell_type": "markdown",
      "metadata": {
        "id": "EfQKWB20A7_C"
      },
      "source": [
        "### Preprocess and tokenise"
      ]
    },
    {
      "cell_type": "code",
      "metadata": {
        "id": "aHl9ZR3TpW37"
      },
      "source": [
        "def fix_text(txt):\n",
        "    txt = re.sub(r'(<br />)+','<LINEBREAK>',txt)\n",
        "    return clean(txt,\n",
        "                fix_unicode=True,               # fix various unicode errors\n",
        "                to_ascii=True,                  # transliterate to closest ASCII representation\n",
        "                lower=True,                     # lowercase text\n",
        "                no_line_breaks=True,           # fully strip line breaks as opposed to only normalizing them\n",
        "                no_urls=False,                  # replace all URLs with a special token\n",
        "                no_emails=True,                # replace all email addresses with a special token\n",
        "                no_phone_numbers=True,         # replace all phone numbers with a special token\n",
        "                no_numbers=True,               # replace all numbers with a special token\n",
        "                no_digits=False,                # replace all digits with a special token\n",
        "                no_currency_symbols=True,      # replace all currency symbols with a special token\n",
        "                no_punct=True,                 # remove punctuations\n",
        "                replace_with_punct=\"<PUNCT>\",          # instead of removing punctuations you may replace them\n",
        "                replace_with_url=\"<URL>\",\n",
        "                replace_with_email=\"<EMAIL>\",\n",
        "                replace_with_phone_number=\"<PHONE>\",\n",
        "                replace_with_number=\"<NUMBER>\",\n",
        "                replace_with_digit=\"0\",\n",
        "                replace_with_currency_symbol=\"<CUR>\",\n",
        "                lang=\"en\"                       # set to 'de' for German special handling\n",
        "            )"
      ],
      "execution_count": 34,
      "outputs": []
    },
    {
      "cell_type": "markdown",
      "metadata": {
        "id": "gITyn6fDrwEt"
      },
      "source": [
        ""
      ]
    },
    {
      "cell_type": "code",
      "metadata": {
        "id": "Bdqu_tJFBD_c"
      },
      "source": [
        "nlp = spacy.load(\"en_core_web_sm\")\n",
        "tok_text=[] # for our tokenised corpus\n",
        "text = df.review.str.lower().values\n"
      ],
      "execution_count": 24,
      "outputs": []
    },
    {
      "cell_type": "code",
      "metadata": {
        "id": "o-90t9eOxUiK",
        "outputId": "080c2758-8b9c-4096-ee28-8746c0af97e1",
        "colab": {
          "base_uri": "https://localhost:8080/"
        }
      },
      "source": [
        "[fix_text(str(i)) for i in text[:10]]"
      ],
      "execution_count": 35,
      "outputs": [
        {
          "output_type": "execute_result",
          "data": {
            "text/plain": [
              "['one of the other reviewers has mentioned that after watching just <number> oz episode you<punct>ll be hooked<punct> they are right<punct> as this is exactly what happened with me<punct><linebreak>the first thing that struck me about oz was its brutality and unflinching scenes of violence<punct> which set in right from the word go<punct> trust me<punct> this is not a show for the faint hearted or timid<punct> this show pulls no punches with regards to drugs<punct> sex or violence<punct> its is hardcore<punct> in the classic use of the word<punct><linebreak>it is called oz as that is the nickname given to the oswald maximum security state penitentary<punct> it focuses mainly on emerald city<punct> an experimental section of the prison where all the cells have glass fronts and face inwards<punct> so privacy is not high on the agenda<punct> em city is home to many<punct><punct>aryans<punct> muslims<punct> gangstas<punct> latinos<punct> christians<punct> italians<punct> irish and more<punct><punct><punct><punct>so scuffles<punct> death stares<punct> dodgy dealings and shady agreements are never far away<punct><linebreak>i would say the main appeal of the show is due to the fact that it goes where other shows wouldn<punct>t dare<punct> forget pretty pictures painted for mainstream audiences<punct> forget charm<punct> forget romance<punct><punct><punct>oz doesn<punct>t mess around<punct> the first episode i ever saw struck me as so nasty it was surreal<punct> i couldn<punct>t say i was ready for it<punct> but as i watched more<punct> i developed a taste for oz<punct> and got accustomed to the high levels of graphic violence<punct> not just violence<punct> but injustice <punct>crooked guards who<punct>ll be sold out for a nickel<punct> inmates who<punct>ll kill on order and get away with it<punct> well mannered<punct> middle class inmates being turned into prison bitches due to their lack of street skills or prison experience<punct> watching oz<punct> you may become comfortable with what is uncomfortable viewing<punct><punct><punct><punct>thats if you can get in touch with your darker side<punct>',\n",
              " 'a wonderful little production<punct> <linebreak>the filming technique is very unassuming<punct> very old<punct>time<punct>bbc fashion and gives a comforting<punct> and sometimes discomforting<punct> sense of realism to the entire piece<punct> <linebreak>the actors are extremely well chosen<punct> michael sheen not only <punct>has got all the polari<punct> but he has all the voices down pat too<punct> you can truly see the seamless editing guided by the references to williams<punct> diary entries<punct> not only is it well worth the watching but it is a terrificly written and performed piece<punct> a masterful production about one of the great master<punct>s of comedy and his life<punct> <linebreak>the realism really comes home with the little things<punct> the fantasy of the guard which<punct> rather than use the traditional <punct>dream<punct> techniques remains solid then disappears<punct> it plays on our knowledge and our senses<punct> particularly with the scenes concerning orton and halliwell and the sets <punct>particularly of their flat with halliwell<punct>s murals decorating every surface<punct> are terribly well done<punct>',\n",
              " 'i thought this was a wonderful way to spend time on a too hot summer weekend<punct> sitting in the air conditioned theater and watching a light<punct>hearted comedy<punct> the plot is simplistic<punct> but the dialogue is witty and the characters are likable <punct>even the well bread suspected serial killer<punct><punct> while some may be disappointed when they realize this is not match point <number><punct> risk addiction<punct> i thought it was proof that woody allen is still fully in control of the style many of us have grown to love<punct><linebreak>this was the most i<punct>d laughed at one of woody<punct>s comedies in years <punct>dare i say a decade<punct><punct><punct> while i<punct>ve never been impressed with scarlet johanson<punct> in this she managed to tone down her <punct>sexy<punct> image and jumped right into a average<punct> but spirited young woman<punct><linebreak>this may not be the crown jewel of his career<punct> but it was wittier than <punct>devil wears prada<punct> and more interesting than <punct>superman<punct> a great comedy to go see with friends<punct>',\n",
              " 'basically there<punct>s a family where a little boy <punct>jake<punct> thinks there<punct>s a zombie in his closet <punct> his parents are fighting all the time<punct><linebreak>this movie is slower than a soap opera<punct><punct><punct> and suddenly<punct> jake decides to become rambo and kill the zombie<punct><linebreak>ok<punct> first of all when you<punct>re going to make a film you must decide if its a thriller or a drama<punct> as a drama the movie is watchable<punct> parents are divorcing <punct> arguing like in real life<punct> and then we have jake with his closet which totally ruins all the film<punct> i expected to see a boogeyman similar movie<punct> and instead i watched a drama with some meaningless thriller spots<punct><linebreak><number> out of <number> just for the well playing parents <punct> descent dialogs<punct> as for the shots with jake<punct> just ignore them<punct>',\n",
              " 'petter mattei<punct>s <punct>love in the time of money<punct> is a visually stunning film to watch<punct> mr<punct> mattei offers us a vivid portrait about human relations<punct> this is a movie that seems to be telling us what money<punct> power and success do to people in the different situations we encounter<punct> <linebreak>this being a variation on the arthur schnitzler<punct>s play about the same theme<punct> the director transfers the action to the present time new york where all these different characters meet and connect<punct> each one is connected in one way<punct> or another to the next person<punct> but no one seems to know the previous point of contact<punct> stylishly<punct> the film has a sophisticated luxurious look<punct> we are taken to see how these people live and the world they live in their own habitat<punct><linebreak>the only thing one gets out of all these souls in the picture is the different stages of loneliness each one inhabits<punct> a big city is not exactly the best place in which human relations find sincere fulfillment<punct> as one discerns is the case with most of the people we encounter<punct><linebreak>the acting is good under mr<punct> mattei<punct>s direction<punct> steve buscemi<punct> rosario dawson<punct> carol kane<punct> michael imperioli<punct> adrian grenier<punct> and the rest of the talented cast<punct> make these characters come alive<punct><linebreak>we wish mr<punct> mattei good luck and await anxiously for his next work<punct>',\n",
              " 'probably my all<punct>time favorite movie<punct> a story of selflessness<punct> sacrifice and dedication to a noble cause<punct> but it<punct>s not preachy or boring<punct> it just never gets old<punct> despite my having seen it some <number> or more times in the last <number> years<punct> paul lukas<punct> performance brings tears to my eyes<punct> and bette davis<punct> in one of her very few truly sympathetic roles<punct> is a delight<punct> the kids are<punct> as grandma says<punct> more like <punct>dressed<punct>up midgets<punct> than children<punct> but that only makes them more fun to watch<punct> and the mother<punct>s slow awakening to what<punct>s happening in the world and under her own roof is believable and startling<punct> if i had a dozen thumbs<punct> they<punct>d all be <punct>up<punct> for this movie<punct>',\n",
              " 'i sure would like to see a resurrection of a up dated seahunt series with the tech they have today it would bring back the kid excitement in me<punct>i grew up on black and white tv and seahunt with gunsmoke were my hero<punct>s every week<punct>you have my vote for a comeback of a new sea hunt<punct>we need a change of pace in tv and this would work for a world of under water adventure<punct>oh by the way thank you for an outlet like this to view many viewpoints about tv and the many movies<punct>so any ole way i believe i<punct>ve got what i wanna say<punct>would be nice to read some more plus points about sea hunt<punct>if my rhymes would be <number> lines would you let me submit<punct>or leave me out to be in doubt and have me to quit<punct>if this is so then i must go so lets do it<punct>',\n",
              " 'this show was an amazing<punct> fresh <punct> innovative idea in the <number><punct>s when it first aired<punct> the first <number> or <number> years were brilliant<punct> but things dropped off after that<punct> by <number><punct> the show was not really funny anymore<punct> and it<punct>s continued its decline further to the complete waste of time it is today<punct><linebreak>it<punct>s truly disgraceful how far this show has fallen<punct> the writing is painfully bad<punct> the performances are almost as bad <punct> if not for the mildly entertaining respite of the guest<punct>hosts<punct> this show probably wouldn<punct>t still be on the air<punct> i find it so hard to believe that the same creator that hand<punct>selected the original cast also chose the band of hacks that followed<punct> how can one recognize such brilliance and then see fit to replace it with such mediocrity<punct> i felt i must give <number> stars out of respect for the original cast that made this show such a huge success<punct> as it is now<punct> the show is just awful<punct> i can<punct>t believe it<punct>s still on the air<punct>',\n",
              " 'encouraged by the positive comments about this film on here i was looking forward to watching this film<punct> bad mistake<punct> i<punct>ve seen <number>+ films and this is truly one of the worst of them <punct> it<punct>s awful in almost every way<punct> editing<punct> pacing<punct> storyline<punct> <punct>acting<punct><punct> soundtrack <punct>the film<punct>s only song <punct> a lame country tune <punct> is played no less than four times<punct><punct> the film looks cheap and nasty and is boring in the extreme<punct> rarely have i been so happy to see the end credits of a film<punct> <linebreak>the only thing that prevents me giving this a <number><punct>score is harvey keitel <punct> while this is far from his best performance he at least seems to be making a bit of an effort<punct> one for keitel obsessives only<punct>',\n",
              " 'if you like original gut wrenching laughter you will like this movie<punct> if you are young or old then you will love this movie<punct> hell even my mom liked it<punct><linebreak>great camp<punct><punct><punct>']"
            ]
          },
          "metadata": {},
          "execution_count": 35
        }
      ]
    },
    {
      "cell_type": "code",
      "metadata": {
        "id": "zvURUmMbryf1"
      },
      "source": [
        "text = [fix_text(str(i)) for i in text]\n",
        "# text = [str(i) for i in text]\n",
        "#Tokenising using SpaCy:\n",
        "for doc in tqdm(nlp.pipe(text, n_threads=2, disable=[\"tagger\", \"parser\",\"ner\"])):\n",
        "    tok = [t.text for t in doc if (t.is_ascii and not t.is_punct and not t.is_space)]\n",
        "    tok_text.append(tok)\n"
      ],
      "execution_count": null,
      "outputs": []
    },
    {
      "cell_type": "markdown",
      "metadata": {
        "id": "FQzcxM3xBBw1"
      },
      "source": [
        "### Fast text"
      ]
    },
    {
      "cell_type": "code",
      "metadata": {
        "id": "MwHKx5fcxq70"
      },
      "source": [
        "ft_model = FastText(\n",
        "    sg=1, # use skip-gram: usually gives better results\n",
        "    size=100, # embedding dimension (default)\n",
        "    window=10, # window size: 10 tokens before and 10 tokens after to get wider context\n",
        "    min_count=5, # only consider tokens with at least n occurrences in the corpus\n",
        "    negative=15, # negative subsampling: bigger than default to sample negative examples more\n",
        "    min_n=2, # min character n-gram\n",
        "    max_n=5 # max character n-gram\n",
        ")\n",
        "\n",
        "ft_model.build_vocab(tok_text)\n",
        "\n",
        "ft_model.train(\n",
        "    tok_text,\n",
        "    epochs=6,\n",
        "    total_examples=ft_model.corpus_count, \n",
        "    total_words=ft_model.corpus_total_words)\n",
        "\n",
        "ft_model.save('_fasttext.model')"
      ],
      "execution_count": null,
      "outputs": []
    },
    {
      "cell_type": "markdown",
      "metadata": {
        "id": "a1ZSQftUqtMP"
      },
      "source": [
        "### Load fasttext and query"
      ]
    },
    {
      "cell_type": "code",
      "metadata": {
        "id": "NFqKwbjmqvSV"
      },
      "source": [
        "ft_model = FastText.load('_fasttext.model')"
      ],
      "execution_count": null,
      "outputs": []
    },
    {
      "cell_type": "code",
      "metadata": {
        "id": "OLwIfq-bLSCr"
      },
      "source": [
        "with plt.xkcd():\n",
        "  pd.DataFrame(ft_model.wv.most_similar(\"yorkshire\", topn=10, restrict_vocab=5000),columns=['Word','Score']).plot.barh(x='Word',figsize=(6,6),color=(0.3,0.7,0.7))"
      ],
      "execution_count": null,
      "outputs": []
    },
    {
      "cell_type": "code",
      "metadata": {
        "id": "ISuOgynlLe0T"
      },
      "source": [
        "with plt.xkcd():\n",
        "  pd.DataFrame(ft_model.wv.most_similar(\"rg9\", topn=10, restrict_vocab=10000),columns=['Word','Score']).plot.barh(x='Word',figsize=(6,6),color=(0.3,0.7,0.7))"
      ],
      "execution_count": null,
      "outputs": []
    },
    {
      "cell_type": "markdown",
      "metadata": {
        "id": "T-qO3nVYKsJt"
      },
      "source": [
        "### Creating BM25 document vectors:"
      ]
    },
    {
      "cell_type": "code",
      "metadata": {
        "id": "D58X-5E0sNDa"
      },
      "source": [
        "bm25 = BM25Okapi(tok_text)\n",
        "weighted_doc_vects = []\n",
        "unknown_words = []\n",
        "embed_vocab = list(ft_model.wv.vocab.keys())\n",
        "for i,doc in tqdm(enumerate(tok_text)):\n",
        "  doc_vector = []\n",
        "  for word in doc:\n",
        "    if word in embed_vocab:\n",
        "        vector = ft_model[word]\n",
        "        weight = (bm25.idf[word] * ((bm25.k1 + 1.0)*bm25.doc_freqs[i][word])) \n",
        "        / \n",
        "        (bm25.k1 * (1.0 - bm25.b + bm25.b *(bm25.doc_len[i]/bm25.avgdl))+bm25.doc_freqs[i][word])\n",
        "        weighted_vector = vector * weight\n",
        "        doc_vector.append(weighted_vector)\n",
        "    else: unknown_words.append(word)\n",
        "  doc_vector_mean = np.mean(doc_vector,axis=0)\n",
        "  weighted_doc_vects.append(doc_vector_mean)\n",
        "  len(unknown_words)"
      ],
      "execution_count": null,
      "outputs": []
    },
    {
      "cell_type": "code",
      "metadata": {
        "id": "zCE4948dvsy6"
      },
      "source": [
        "pickle.dump( weighted_doc_vects, open( \"weighted_doc_vects.p\", \"wb\" ) )"
      ],
      "execution_count": null,
      "outputs": []
    },
    {
      "cell_type": "markdown",
      "metadata": {
        "id": "ixGcVaAqKxK7"
      },
      "source": [
        "### Load document vectors, build index and search:"
      ]
    },
    {
      "cell_type": "code",
      "metadata": {
        "id": "-60uBQBW19W9"
      },
      "source": [
        "with open( \"weighted_doc_vects.p\", \"rb\" ) as f:\n",
        "    weighted_doc_vects = pickle.load(f)\n",
        "# create a random matrix to index\n",
        "data = np.vstack(weighted_doc_vects)\n",
        "\n",
        "# initialize a new index, using a HNSW index on Cosine Similarity - can take a couple of mins\n",
        "index = nmslib.init(method='hnsw', space='cosinesimil')\n",
        "index.addDataPointBatch(data)\n",
        "index.createIndex({'post': 2}, print_progress=True)"
      ],
      "execution_count": null,
      "outputs": []
    },
    {
      "cell_type": "code",
      "metadata": {
        "id": "63qqZjXT3BOH"
      },
      "source": [
        "# querying the index:\n",
        "input = 'audit services Norwic'\n",
        "\n",
        "\n",
        "input = fix_text(input).lower().split()\n",
        "\n",
        "query = [ft_model[vec] for vec in input]\n",
        "query = np.mean(query,axis=0)\n",
        "\n",
        "t0 = time.time()\n",
        "ids, distances = index.knnQuery(query, k=10)\n",
        "t1 = time.time()\n",
        "print(f'Searched {df.shape[0]} records in {round(t1-t0,4) } seconds \\n')\n",
        "for i,j in zip(ids,distances):\n",
        "  print(round(j,2))\n",
        "  print(df.text.values[i])"
      ],
      "execution_count": null,
      "outputs": []
    },
    {
      "cell_type": "code",
      "metadata": {
        "id": "1YKLVM8H9cPP"
      },
      "source": [
        ""
      ],
      "execution_count": null,
      "outputs": []
    }
  ]
}